{
  "nbformat": 4,
  "nbformat_minor": 0,
  "metadata": {
    "anaconda-cloud": {},
    "kernelspec": {
      "display_name": "Python 3",
      "language": "python",
      "name": "python3"
    },
    "language_info": {
      "codemirror_mode": {
        "name": "ipython",
        "version": 3
      },
      "file_extension": ".py",
      "mimetype": "text/x-python",
      "name": "python",
      "nbconvert_exporter": "python",
      "pygments_lexer": "ipython3",
      "version": "3.6.3"
    },
    "latex_envs": {
      "bibliofile": "biblio.bib",
      "cite_by": "apalike",
      "current_citInitial": 1,
      "eqLabelWithNumbers": true,
      "eqNumInitial": 0
    },
    "toc": {
      "toc_cell": false,
      "toc_number_sections": true,
      "toc_threshold": 6,
      "toc_window_display": false
    },
    "colab": {
      "name": "工業情報数理 模擬授業演習",
      "version": "0.3.2",
      "provenance": [],
      "collapsed_sections": []
    }
  },
  "cells": [
    {
      "cell_type": "markdown",
      "metadata": {
        "id": "F9h-4DB45k-i",
        "colab_type": "text"
      },
      "source": [
        "# Python 入門\n",
        "\n",
        "この章では、プログラミング言語の一つであるPythonの基本的な使い方について述べる。"
      ]
    },
    {
      "cell_type": "markdown",
      "metadata": {
        "id": "TOQy-3_n5k-l",
        "colab_type": "text"
      },
      "source": [
        "この章ではたくさんのコードを例示する。\n",
        "コードは基本的には「セル」の中に表示されており、出力がそのすぐ下に表示される。\n",
        "\n",
        "セル内の「\\#」始まる文章は理解を助けるためのコメントであり、Pythonには読み込まれない。\n",
        "\n",
        "例えば"
      ]
    },
    {
      "cell_type": "code",
      "metadata": {
        "id": "4iHi9fdx5k-m",
        "colab_type": "code",
        "colab": {}
      },
      "source": [
        "# これは一行目のコメントである\n",
        "spam = 1 # これは二行目のコメントで\n",
        "         #　これは3行目のコメントである。\n",
        "text = '# この文章は、コーテーションの内側にあるためコメントではない。'"
      ],
      "execution_count": 0,
      "outputs": []
    },
    {
      "cell_type": "markdown",
      "metadata": {
        "id": "Ymp_Wwlr5k-s",
        "colab_type": "text"
      },
      "source": [
        "このようにして、適宜コメントを残しておくことができる。"
      ]
    },
    {
      "cell_type": "markdown",
      "metadata": {
        "id": "Ke4gzqna5k-t",
        "colab_type": "text"
      },
      "source": [
        "なお、上の例の二行目は `spam` という変数に数字の1を割り当てるという意味である。\n",
        "\n",
        "ほとんどのプログラミング言語では、このような **変数** を用いることができる。変数は基本的には数字や文字などを保持しておく入れ物のようなものであると考えてもらえればよい。\n",
        "\n",
        "Pythonの変数は\n",
        "\n",
        "+ 英字から始まる好きな文字列を用いることができる\n",
        "+ 大文字と小文字は区別する\n",
        "+ **class** などいくつかの文字列は予約されているため使うことができない\n",
        "\n",
        "などが特徴である。"
      ]
    },
    {
      "cell_type": "markdown",
      "metadata": {
        "id": "vPSrboGT5k-4",
        "colab_type": "text"
      },
      "source": [
        "## Python を電卓として使う\n",
        "\n",
        "Pythonは簡単な電卓のように使うことができる。\n",
        "例えば四則演算は`+`,`-`,`*`, `/`を用いることで計算する。"
      ]
    },
    {
      "cell_type": "markdown",
      "metadata": {
        "id": "y78-d0Rh5k-6",
        "colab_type": "text"
      },
      "source": [
        "### 数値"
      ]
    },
    {
      "cell_type": "code",
      "metadata": {
        "id": "23XxxNdb5k-7",
        "colab_type": "code",
        "outputId": "b881a084-6c16-4ad4-8db4-455b21344251",
        "colab": {
          "base_uri": "https://localhost:8080/",
          "height": 34
        }
      },
      "source": [
        "2+2"
      ],
      "execution_count": 0,
      "outputs": [
        {
          "output_type": "execute_result",
          "data": {
            "text/plain": [
              "4"
            ]
          },
          "metadata": {
            "tags": []
          },
          "execution_count": 1
        }
      ]
    },
    {
      "cell_type": "code",
      "metadata": {
        "id": "nbC_c1HB5k--",
        "colab_type": "code",
        "colab": {}
      },
      "source": [
        "50-5*6"
      ],
      "execution_count": 0,
      "outputs": []
    },
    {
      "cell_type": "code",
      "metadata": {
        "id": "6VCjOUGe5k_B",
        "colab_type": "code",
        "colab": {}
      },
      "source": [
        "(50-5*6)/4 "
      ],
      "execution_count": 0,
      "outputs": []
    },
    {
      "cell_type": "markdown",
      "metadata": {
        "id": "tXTjq_hK5k_E",
        "colab_type": "text"
      },
      "source": [
        "またPythonでは指数も簡単に計算できる。"
      ]
    },
    {
      "cell_type": "code",
      "metadata": {
        "id": "janjqBnX5k_F",
        "colab_type": "code",
        "colab": {}
      },
      "source": [
        "5 **2 # 5の２乗"
      ],
      "execution_count": 0,
      "outputs": []
    },
    {
      "cell_type": "code",
      "metadata": {
        "id": "NcDJNfCu5k_I",
        "colab_type": "code",
        "colab": {}
      },
      "source": [
        "2**7 # ２の７乗"
      ],
      "execution_count": 0,
      "outputs": []
    },
    {
      "cell_type": "markdown",
      "metadata": {
        "id": "2DVe91_75k_N",
        "colab_type": "text"
      },
      "source": [
        "以下は変数に計算結果を代入する例である。\n",
        "\n",
        "イコール記号`=`は、変数に値を割り当てることを意味する。\n",
        "この場合、結果は表示されない。"
      ]
    },
    {
      "cell_type": "code",
      "metadata": {
        "id": "AAjusfb35k_O",
        "colab_type": "code",
        "outputId": "b15599ca-b320-41d2-d109-31f9da89b42b",
        "colab": {
          "base_uri": "https://localhost:8080/",
          "height": 34
        }
      },
      "source": [
        "width = 20\n",
        "height = 5*9\n",
        "square = width * height\n",
        "print(square)"
      ],
      "execution_count": 0,
      "outputs": [
        {
          "output_type": "stream",
          "text": [
            "900\n"
          ],
          "name": "stdout"
        }
      ]
    },
    {
      "cell_type": "markdown",
      "metadata": {
        "id": "j3gbm-Wb7Km9",
        "colab_type": "text"
      },
      "source": [
        "それでは、実際にPythonを電卓として使ってみよう！\n",
        "\n",
        "例）\n",
        "\n",
        "                    V = 50 V\n",
        "                    I = 1.58 A             \n",
        "                    \n",
        "                    であるときの電気抵抗はいくらか？                              \n",
        "                    （ヒント：V = RI を式変形すると....?）"
      ]
    },
    {
      "cell_type": "code",
      "metadata": {
        "id": "XhdwDZzV8qtq",
        "colab_type": "code",
        "colab": {}
      },
      "source": [
        "# 解答をここに記入する"
      ],
      "execution_count": 0,
      "outputs": []
    },
    {
      "cell_type": "code",
      "metadata": {
        "id": "DyXX4_OWnVU9",
        "colab_type": "code",
        "colab": {
          "base_uri": "https://localhost:8080/",
          "height": 35
        },
        "outputId": "fb8744d5-edca-4f9f-e344-17eae2f4f2bb"
      },
      "source": [
        "# 解答例\n",
        "V = 50\n",
        "I = 2.0\n",
        "R = V/I\n",
        "print('R = V/I = %f Ω'%R)"
      ],
      "execution_count": 12,
      "outputs": [
        {
          "output_type": "stream",
          "text": [
            "R = V/I = 25.000000 Ω\n"
          ],
          "name": "stdout"
        }
      ]
    },
    {
      "cell_type": "markdown",
      "metadata": {
        "id": "rF_dselHFbCL",
        "colab_type": "text"
      },
      "source": [
        "他にも、微分積分などの演算もPythonでは可能である。\n",
        "\n",
        "例）\n",
        "\n",
        "$$\n",
        "\\int_0^1 x^2 dx\n",
        "$$\n"
      ]
    },
    {
      "cell_type": "code",
      "metadata": {
        "id": "dQNQQa2AFpuL",
        "colab_type": "code",
        "outputId": "70fb41ce-0741-4559-d0e1-9908d7566b5d",
        "colab": {
          "base_uri": "https://localhost:8080/",
          "height": 35
        }
      },
      "source": [
        "from sympy import *\n",
        "x = Symbol('x')\n",
        "integrate(x**2,(x,0,1))"
      ],
      "execution_count": 17,
      "outputs": [
        {
          "output_type": "execute_result",
          "data": {
            "text/plain": [
              "1/3"
            ]
          },
          "metadata": {
            "tags": []
          },
          "execution_count": 17
        }
      ]
    },
    {
      "cell_type": "markdown",
      "metadata": {
        "id": "mTWT_F8a5k_Z",
        "colab_type": "text"
      },
      "source": [
        "-------------------------------------\n",
        "\n",
        "### 文字列\n",
        "\n",
        "数値と同じように、Pythonは文字列も扱うことができる。\n",
        "文字列はシングルコーテーション`'...'`もしくはダブルコーテーション`\"...\"`で囲むことで表現できる。\n",
        "\n",
        "コーテーションで囲わない場合は、Pythonへの命令として扱われるため区別が必要である。"
      ]
    },
    {
      "cell_type": "code",
      "metadata": {
        "id": "F-zEGegB5k_a",
        "colab_type": "code",
        "outputId": "86f3e2c4-4fe0-43dd-fdfa-d102fba6f2d0",
        "colab": {}
      },
      "source": [
        "'spam eggs' # シングルコーテーションを使う"
      ],
      "execution_count": 0,
      "outputs": [
        {
          "output_type": "execute_result",
          "data": {
            "text/plain": [
              "'spam eggs'"
            ]
          },
          "metadata": {
            "tags": []
          },
          "execution_count": 11
        }
      ]
    },
    {
      "cell_type": "code",
      "metadata": {
        "id": "KdLhkgnU5k_f",
        "colab_type": "code",
        "outputId": "414081ab-e5f3-41d9-e823-a6699e3cebb1",
        "colab": {}
      },
      "source": [
        "'doesn\\'t'\n",
        "# コーテーション自体を扱いたい場合は \\' というように「\\（バックスラッシュ）」が必要である。\n",
        "# なお、Windowsではバックスラッシュは半角の円マーク（￥）と表示されることがある。"
      ],
      "execution_count": 0,
      "outputs": [
        {
          "output_type": "execute_result",
          "data": {
            "text/plain": [
              "\"doesn't\""
            ]
          },
          "metadata": {
            "tags": []
          },
          "execution_count": 12
        }
      ]
    },
    {
      "cell_type": "markdown",
      "metadata": {
        "id": "6o0-UMqa5k_i",
        "colab_type": "text"
      },
      "source": [
        "文字列は、`+`記号で繋ぐことができる。"
      ]
    },
    {
      "cell_type": "code",
      "metadata": {
        "id": "R-YGUckC5k_j",
        "colab_type": "code",
        "outputId": "9414c5db-3c04-4b9e-da12-6c1ca8171993",
        "colab": {}
      },
      "source": [
        "'Py' + 'thon'"
      ],
      "execution_count": 0,
      "outputs": [
        {
          "output_type": "execute_result",
          "data": {
            "text/plain": [
              "'Python'"
            ]
          },
          "metadata": {
            "tags": []
          },
          "execution_count": 13
        }
      ]
    },
    {
      "cell_type": "markdown",
      "metadata": {
        "id": "mD0Axrl25k_m",
        "colab_type": "text"
      },
      "source": [
        "また、文字列中の各文字には`[]`記号を用いてアクセスすることができる。\n",
        "\n",
        "なお、Pythonでは1番最初の要素にアクセスするためには0を与える（0から数える）。"
      ]
    },
    {
      "cell_type": "code",
      "metadata": {
        "id": "nBzYlWet5k_n",
        "colab_type": "code",
        "outputId": "41b793b5-7b30-49e5-9dba-609281e4fcf0",
        "colab": {}
      },
      "source": [
        "word = 'Python'\n",
        "word[0] # 0番目の文字"
      ],
      "execution_count": 0,
      "outputs": [
        {
          "output_type": "execute_result",
          "data": {
            "text/plain": [
              "'P'"
            ]
          },
          "metadata": {
            "tags": []
          },
          "execution_count": 14
        }
      ]
    },
    {
      "cell_type": "code",
      "metadata": {
        "id": "7ajflQN-5k_p",
        "colab_type": "code",
        "outputId": "231eb5a4-f7d7-4904-c1e8-831b98d81340",
        "colab": {}
      },
      "source": [
        "word[5] # （0から数えて）5番目の文字"
      ],
      "execution_count": 0,
      "outputs": [
        {
          "output_type": "execute_result",
          "data": {
            "text/plain": [
              "'n'"
            ]
          },
          "metadata": {
            "tags": []
          },
          "execution_count": 15
        }
      ]
    },
    {
      "cell_type": "markdown",
      "metadata": {
        "id": "1rIoyfSq5k_t",
        "colab_type": "text"
      },
      "source": [
        "また、インデックス（`[]`内の数字）には、負の数を入れることができる。"
      ]
    },
    {
      "cell_type": "code",
      "metadata": {
        "id": "jSGMV_0J5k_v",
        "colab_type": "code",
        "outputId": "526ad56b-5a9d-4bf2-8088-ae2285442676",
        "colab": {}
      },
      "source": [
        "word[-1] # 最後の文字"
      ],
      "execution_count": 0,
      "outputs": [
        {
          "output_type": "execute_result",
          "data": {
            "text/plain": [
              "'n'"
            ]
          },
          "metadata": {
            "tags": []
          },
          "execution_count": 16
        }
      ]
    },
    {
      "cell_type": "code",
      "metadata": {
        "id": "PHyCz5BA5k_2",
        "colab_type": "code",
        "outputId": "584787a8-b65e-4e9a-df7e-e24abe698705",
        "colab": {}
      },
      "source": [
        "word[-2] # 最後から二番目の文字"
      ],
      "execution_count": 0,
      "outputs": [
        {
          "output_type": "execute_result",
          "data": {
            "text/plain": [
              "'o'"
            ]
          },
          "metadata": {
            "tags": []
          },
          "execution_count": 17
        }
      ]
    },
    {
      "cell_type": "code",
      "metadata": {
        "id": "TwhtmHBE5k_8",
        "colab_type": "code",
        "outputId": "b6f2daff-d546-4e5a-b61b-eca8abf4fb89",
        "colab": {}
      },
      "source": [
        "word[-6]"
      ],
      "execution_count": 0,
      "outputs": [
        {
          "output_type": "execute_result",
          "data": {
            "text/plain": [
              "'P'"
            ]
          },
          "metadata": {
            "tags": []
          },
          "execution_count": 18
        }
      ]
    },
    {
      "cell_type": "markdown",
      "metadata": {
        "id": "QaowIFFy5lAA",
        "colab_type": "text"
      },
      "source": [
        "このように特定の一つの文字にアクセスすることを「indexing(インデクシング)」と言う。\n",
        "\n",
        "また、Pythonは特定の一部分にアクセスする「slicing(スライシング)」にも対応している。"
      ]
    },
    {
      "cell_type": "code",
      "metadata": {
        "id": "x8G8Dnzp5lAB",
        "colab_type": "code",
        "outputId": "85c4f44e-b6fd-421d-886e-95af73e7efca",
        "colab": {}
      },
      "source": [
        "word[0:2] # 0番目から2番目にわたる部分（なお、2番目は含まれない）"
      ],
      "execution_count": 0,
      "outputs": [
        {
          "output_type": "execute_result",
          "data": {
            "text/plain": [
              "'Py'"
            ]
          },
          "metadata": {
            "tags": []
          },
          "execution_count": 19
        }
      ]
    },
    {
      "cell_type": "code",
      "metadata": {
        "id": "eWNAQu5u5lAI",
        "colab_type": "code",
        "outputId": "32522e04-bd83-48c4-ec3a-30cc29c3551c",
        "colab": {}
      },
      "source": [
        "word[2:5] # 2〜5番目の部分"
      ],
      "execution_count": 0,
      "outputs": [
        {
          "output_type": "execute_result",
          "data": {
            "text/plain": [
              "'tho'"
            ]
          },
          "metadata": {
            "tags": []
          },
          "execution_count": 20
        }
      ]
    },
    {
      "cell_type": "markdown",
      "metadata": {
        "id": "lmOkZ6lR5lAL",
        "colab_type": "text"
      },
      "source": [
        "また、`:`の片側を記入しない場合は、残り全てという意味になる。"
      ]
    },
    {
      "cell_type": "code",
      "metadata": {
        "id": "QQMXM4hK5lAN",
        "colab_type": "code",
        "outputId": "952b111c-42fe-4578-9d88-0287d95bb4dd",
        "colab": {}
      },
      "source": [
        "word[:5]"
      ],
      "execution_count": 0,
      "outputs": [
        {
          "output_type": "execute_result",
          "data": {
            "text/plain": [
              "'Pytho'"
            ]
          },
          "metadata": {
            "tags": []
          },
          "execution_count": 21
        }
      ]
    },
    {
      "cell_type": "code",
      "metadata": {
        "id": "3-87SerW5lAR",
        "colab_type": "code",
        "outputId": "5af979bf-0956-489a-dd72-3c34545c86ce",
        "colab": {}
      },
      "source": [
        "word[:2]"
      ],
      "execution_count": 0,
      "outputs": [
        {
          "output_type": "execute_result",
          "data": {
            "text/plain": [
              "'Py'"
            ]
          },
          "metadata": {
            "tags": []
          },
          "execution_count": 22
        }
      ]
    },
    {
      "cell_type": "code",
      "metadata": {
        "id": "4nQjIidG5lAT",
        "colab_type": "code",
        "outputId": "354714b1-fe30-4812-fb85-014d5c00dd6f",
        "colab": {}
      },
      "source": [
        "word[:-2]"
      ],
      "execution_count": 0,
      "outputs": [
        {
          "output_type": "execute_result",
          "data": {
            "text/plain": [
              "'Pyth'"
            ]
          },
          "metadata": {
            "tags": []
          },
          "execution_count": 23
        }
      ]
    },
    {
      "cell_type": "markdown",
      "metadata": {
        "id": "Dv11zhsp5lAW",
        "colab_type": "text"
      },
      "source": [
        "ただし、含まれる文字数以上の部分にアクセスしようとするとエラーになる。"
      ]
    },
    {
      "cell_type": "code",
      "metadata": {
        "id": "HFgaSTn25lAX",
        "colab_type": "code",
        "outputId": "5e1a11f1-ce6c-4fdb-e0cc-0d6a9e7bcd93",
        "colab": {}
      },
      "source": [
        "word[42]"
      ],
      "execution_count": 0,
      "outputs": [
        {
          "output_type": "error",
          "ename": "IndexError",
          "evalue": "string index out of range",
          "traceback": [
            "\u001b[0;31m---------------------------------------------------------------------------\u001b[0m",
            "\u001b[0;31mIndexError\u001b[0m                                Traceback (most recent call last)",
            "\u001b[0;32m<ipython-input-24-4d0f20275732>\u001b[0m in \u001b[0;36m<module>\u001b[0;34m()\u001b[0m\n\u001b[0;32m----> 1\u001b[0;31m \u001b[0mword\u001b[0m\u001b[0;34m[\u001b[0m\u001b[0;36m42\u001b[0m\u001b[0;34m]\u001b[0m\u001b[0;34m\u001b[0m\u001b[0m\n\u001b[0m",
            "\u001b[0;31mIndexError\u001b[0m: string index out of range"
          ]
        }
      ]
    },
    {
      "cell_type": "code",
      "metadata": {
        "id": "Gi5y7M2V5lAb",
        "colab_type": "code",
        "outputId": "a385c727-90f5-4dbc-dfdd-8c0a44607770",
        "colab": {}
      },
      "source": [
        "word[-10]"
      ],
      "execution_count": 0,
      "outputs": [
        {
          "output_type": "error",
          "ename": "IndexError",
          "evalue": "string index out of range",
          "traceback": [
            "\u001b[0;31m---------------------------------------------------------------------------\u001b[0m",
            "\u001b[0;31mIndexError\u001b[0m                                Traceback (most recent call last)",
            "\u001b[0;32m<ipython-input-25-3a39584f106f>\u001b[0m in \u001b[0;36m<module>\u001b[0;34m()\u001b[0m\n\u001b[0;32m----> 1\u001b[0;31m \u001b[0mword\u001b[0m\u001b[0;34m[\u001b[0m\u001b[0;34m-\u001b[0m\u001b[0;36m10\u001b[0m\u001b[0;34m]\u001b[0m\u001b[0;34m\u001b[0m\u001b[0m\n\u001b[0m",
            "\u001b[0;31mIndexError\u001b[0m: string index out of range"
          ]
        }
      ]
    },
    {
      "cell_type": "markdown",
      "metadata": {
        "id": "lDsjarZ65lAe",
        "colab_type": "text"
      },
      "source": [
        "-------------------------------\n",
        "\n",
        "## リスト\n",
        "\n",
        "Pythonには、複数の数値を*同時に*扱うことのできるリストという仕組みが用意されている。\n",
        "リストを用いるには、以下のように`[]`で囲った中に、複数の数値を「`,`」で区切って含める。"
      ]
    },
    {
      "cell_type": "code",
      "metadata": {
        "id": "jM1rfUeP5lAg",
        "colab_type": "code",
        "outputId": "709953de-eeab-406a-bab5-8f706c67c28a",
        "colab": {}
      },
      "source": [
        "squares = [1, 4, 9, 16, 25]\n",
        "squares"
      ],
      "execution_count": 0,
      "outputs": [
        {
          "output_type": "execute_result",
          "data": {
            "text/plain": [
              "[1, 4, 9, 16, 25]"
            ]
          },
          "metadata": {
            "tags": []
          },
          "execution_count": 26
        }
      ]
    },
    {
      "cell_type": "markdown",
      "metadata": {
        "id": "wpw9y6dk5lAl",
        "colab_type": "text"
      },
      "source": [
        "リストは、文字列のようにインデクシング、スライシングが可能である。"
      ]
    },
    {
      "cell_type": "code",
      "metadata": {
        "id": "FV325KmW5lAm",
        "colab_type": "code",
        "outputId": "240cd991-d585-4032-98c5-79cdcd9e01fc",
        "colab": {}
      },
      "source": [
        "# インデクシング\n",
        "squares[0]"
      ],
      "execution_count": 0,
      "outputs": [
        {
          "output_type": "execute_result",
          "data": {
            "text/plain": [
              "1"
            ]
          },
          "metadata": {
            "tags": []
          },
          "execution_count": 27
        }
      ]
    },
    {
      "cell_type": "code",
      "metadata": {
        "id": "qKAOHjDE5lAp",
        "colab_type": "code",
        "outputId": "214e35cf-23ab-435b-cbd0-17662b05f369",
        "colab": {}
      },
      "source": [
        "# 負の整数を用いたインデクシング\n",
        "squares[-1]"
      ],
      "execution_count": 0,
      "outputs": [
        {
          "output_type": "execute_result",
          "data": {
            "text/plain": [
              "25"
            ]
          },
          "metadata": {
            "tags": []
          },
          "execution_count": 28
        }
      ]
    },
    {
      "cell_type": "code",
      "metadata": {
        "id": "1oZRAVA_5lAs",
        "colab_type": "code",
        "outputId": "f89b2f73-179a-4e71-e892-61a332ec93c3",
        "colab": {}
      },
      "source": [
        "# スライシング\n",
        "squares[-3:]"
      ],
      "execution_count": 0,
      "outputs": [
        {
          "output_type": "execute_result",
          "data": {
            "text/plain": [
              "[9, 16, 25]"
            ]
          },
          "metadata": {
            "tags": []
          },
          "execution_count": 29
        }
      ]
    },
    {
      "cell_type": "markdown",
      "metadata": {
        "id": "H8rG3jbu5lAv",
        "colab_type": "text"
      },
      "source": [
        "リストは、文字列のように`+`記号で結合することができる。"
      ]
    },
    {
      "cell_type": "code",
      "metadata": {
        "id": "pZYk6qJ75lAx",
        "colab_type": "code",
        "outputId": "b21e4142-5fdf-4d63-a12c-8c078eb797de",
        "colab": {}
      },
      "source": [
        "squares + [36, 49, 64]"
      ],
      "execution_count": 0,
      "outputs": [
        {
          "output_type": "execute_result",
          "data": {
            "text/plain": [
              "[1, 4, 9, 16, 25, 36, 49, 64]"
            ]
          },
          "metadata": {
            "tags": []
          },
          "execution_count": 30
        }
      ]
    },
    {
      "cell_type": "markdown",
      "metadata": {
        "id": "CJcL7DCN5lA1",
        "colab_type": "text"
      },
      "source": [
        "リストの内容は書き換えることができる。"
      ]
    },
    {
      "cell_type": "code",
      "metadata": {
        "id": "OmnnwJP_5lA2",
        "colab_type": "code",
        "outputId": "ee79e800-5a4b-4767-bdc6-1b0cc6c9323a",
        "colab": {}
      },
      "source": [
        "cubes = [1, 8, 27, 65, 125][2,3,4,] # 何かおかしい。\n",
        "4 ** 3 # 4の3乗は65ではなく64"
      ],
      "execution_count": 0,
      "outputs": [
        {
          "output_type": "execute_result",
          "data": {
            "text/plain": [
              "64"
            ]
          },
          "metadata": {
            "tags": []
          },
          "execution_count": 31
        }
      ]
    },
    {
      "cell_type": "code",
      "metadata": {
        "id": "FsZcKY-e5lA5",
        "colab_type": "code",
        "outputId": "b9c0d7c6-bd7d-4c7f-e268-6cc1866c4a3f",
        "colab": {}
      },
      "source": [
        "cubes[3] = 64 # 正しい値を、3番めの要素に代入する。\n",
        "cubes"
      ],
      "execution_count": 0,
      "outputs": [
        {
          "output_type": "execute_result",
          "data": {
            "text/plain": [
              "[1, 8, 27, 64, 125]"
            ]
          },
          "metadata": {
            "tags": []
          },
          "execution_count": 32
        }
      ]
    },
    {
      "cell_type": "markdown",
      "metadata": {
        "id": "_FsLykvZ5lA8",
        "colab_type": "text"
      },
      "source": [
        "さらに、リストの末尾に要素を加えることも可能である。"
      ]
    },
    {
      "cell_type": "code",
      "metadata": {
        "id": "sSLwpWeY5lA-",
        "colab_type": "code",
        "outputId": "71bd816a-372b-4ef7-978b-70a78d68017e",
        "colab": {}
      },
      "source": [
        "cubes.append(216) # 6の3乗を加える。\n",
        "cubes.append(7**3) # 7の3乗も加える。\n",
        "cubes"
      ],
      "execution_count": 0,
      "outputs": [
        {
          "output_type": "execute_result",
          "data": {
            "text/plain": [
              "[1, 8, 27, 64, 125, 216, 343]"
            ]
          },
          "metadata": {
            "tags": []
          },
          "execution_count": 33
        }
      ]
    },
    {
      "cell_type": "markdown",
      "metadata": {
        "id": "RBFwRIm15lBC",
        "colab_type": "text"
      },
      "source": [
        "この操作ではリストの含む要素数が変化する。\n",
        "リストがいくつ要素を持っているかは`len()`関数で調べることができる。"
      ]
    },
    {
      "cell_type": "code",
      "metadata": {
        "id": "7L9bz_O15lBC",
        "colab_type": "code",
        "outputId": "525e925a-0019-4a5e-ca21-20236a2b00ec",
        "colab": {}
      },
      "source": [
        "len(cubes) # cubes というリストの要素数を調べる"
      ],
      "execution_count": 0,
      "outputs": [
        {
          "output_type": "execute_result",
          "data": {
            "text/plain": [
              "7"
            ]
          },
          "metadata": {
            "tags": []
          },
          "execution_count": 34
        }
      ]
    },
    {
      "cell_type": "markdown",
      "metadata": {
        "id": "ySTtR3w-5lBG",
        "colab_type": "text"
      },
      "source": [
        "リストの要素は、数値だけでなく、文字列、さらには別のリストとすることも可能である。"
      ]
    },
    {
      "cell_type": "code",
      "metadata": {
        "id": "SH-ADnj95lBH",
        "colab_type": "code",
        "outputId": "2a9eaf04-2722-4a6c-826f-d51deec4a25f",
        "colab": {}
      },
      "source": [
        "a = ['a', 'b', 'c']\n",
        "n = [1,2,3]\n",
        "x = [a,n]\n",
        "\n",
        "x"
      ],
      "execution_count": 0,
      "outputs": [
        {
          "output_type": "execute_result",
          "data": {
            "text/plain": [
              "[['a', 'b', 'c'], [1, 2, 3]]"
            ]
          },
          "metadata": {
            "tags": []
          },
          "execution_count": 35
        }
      ]
    },
    {
      "cell_type": "markdown",
      "metadata": {
        "id": "UVqdfDDJ5lBK",
        "colab_type": "text"
      },
      "source": [
        "インデックスを用いて要素を読みだす。"
      ]
    },
    {
      "cell_type": "code",
      "metadata": {
        "id": "niTmcPDw5lBL",
        "colab_type": "code",
        "outputId": "884bd197-b8da-4e02-a5ca-defc1b54fe99",
        "colab": {}
      },
      "source": [
        "x[0]"
      ],
      "execution_count": 0,
      "outputs": [
        {
          "output_type": "execute_result",
          "data": {
            "text/plain": [
              "['a', 'b', 'c']"
            ]
          },
          "metadata": {
            "tags": []
          },
          "execution_count": 36
        }
      ]
    },
    {
      "cell_type": "code",
      "metadata": {
        "id": "DDbLRjKp5lBT",
        "colab_type": "code",
        "outputId": "da2cf11b-5d16-4125-a7be-e472cbdc18c5",
        "colab": {}
      },
      "source": [
        "x[0][1]"
      ],
      "execution_count": 0,
      "outputs": [
        {
          "output_type": "execute_result",
          "data": {
            "text/plain": [
              "'b'"
            ]
          },
          "metadata": {
            "tags": []
          },
          "execution_count": 37
        }
      ]
    },
    {
      "cell_type": "markdown",
      "metadata": {
        "id": "WipLe1xo5lBX",
        "colab_type": "text"
      },
      "source": [
        "## プログラミング学習の第一歩 ~ while ループ ~\n",
        "\n",
        "Pythonは、上記のような命令よりさらに複雑なものにも応用できる。\n",
        "\n",
        "例えば、次の例ではフィボナッチ数列を計算している。\n",
        "\n",
        "なお、フィボナッチ数列は以下のように定義される数式である。\n",
        "\n",
        "$$\n",
        "F_0 = 0, \\\\\n",
        "F_1 = 1, \\\\\n",
        "F_n + 2 = F_n + F_n + 1 \\;\\; (n ≧ 0)\n",
        "$$\n"
      ]
    },
    {
      "cell_type": "code",
      "metadata": {
        "id": "B_xWC5F15lBZ",
        "colab_type": "code",
        "outputId": "474f4848-0490-4d34-9795-7be1fd3e0c1e",
        "colab": {
          "base_uri": "https://localhost:8080/",
          "height": 174
        }
      },
      "source": [
        "# フィボナッチ数列。　2つの数値の和が、次の数値になる。\n",
        "a, b = 0, 1\n",
        "while b < 30:\n",
        "    print(b)\n",
        "    a, b = b, a+b\n",
        "print('The loop ends')"
      ],
      "execution_count": 0,
      "outputs": [
        {
          "output_type": "stream",
          "text": [
            "1\n",
            "1\n",
            "2\n",
            "3\n",
            "5\n",
            "8\n",
            "13\n",
            "21\n",
            "The loop ends\n"
          ],
          "name": "stdout"
        }
      ]
    },
    {
      "cell_type": "markdown",
      "metadata": {
        "id": "qr6BvXqg5lBb",
        "colab_type": "text"
      },
      "source": [
        "ここでは、いくつか新しい内容が出てきている。\n",
        "\n",
        "+ 1行目は、多重代入と呼ばれる操作である。`a`と`b`にそれぞれ`0`,`1`を代入している。\n",
        "\n",
        "\n",
        "+ `while`ループが用いられている。`while`文は、ある条件(ここでは`b<10`)が満たされている間、内部の命令を繰り返すものである。\n",
        "ここで`b<10`は、bが10未満の時に真となり、そうでないときは偽となる。真と評価されている間は`print(b)`, `a=b`, `b=a+b`が繰り返される。\n",
        "\n",
        "\n",
        "+ `while`文が繰り返す命令の範囲は*インデント*で示される。文頭に4文字分のスペースを明けている部分が繰り返し実行される(なお、キーボードの`Tab`キーを押すことで、４文字分のスペースを入力できる)。\n",
        "\n",
        "\n",
        "+ その次の`print(The loop ends)`コマンドはインデントされていない。そのため、`while`ループが終わった後に一度だけ実行される。\n",
        "\n",
        "\n",
        "+ `print()`関数`print(b)`や`print('The loop ends')`は、括弧内の値（引数：ひきすう　と呼ぶ）を画面に表示させる役割を持つ。\n",
        "`while`ループにより繰り返し実行されるに従い、内容が毎回表示される。"
      ]
    },
    {
      "cell_type": "markdown",
      "metadata": {
        "collapsed": true,
        "id": "2qUDHuXp5lBc",
        "colab_type": "text"
      },
      "source": [
        "毎回結果を表示させるよりも、リストに格納するほうがよい。"
      ]
    },
    {
      "cell_type": "code",
      "metadata": {
        "id": "re5k87M65lBd",
        "colab_type": "code",
        "outputId": "bc163514-4b36-4ac9-f012-f5ab968dc789",
        "colab": {
          "base_uri": "https://localhost:8080/",
          "height": 34
        }
      },
      "source": [
        "a, b = 0, 1\n",
        "fibonacci = [a] # 最初の要素のみが入ったリストを用意する。\n",
        "while b < 1000:\n",
        "    fibonacci.append(b) # リストにbの値を追加する。\n",
        "    a, b = b, a+b # 現在のbの値と、現在のaとbの値から計算したa+bの値をそれぞれ aとbに代入する。\n",
        "print(fibonacci)"
      ],
      "execution_count": 0,
      "outputs": [
        {
          "output_type": "stream",
          "text": [
            "[0, 1, 1, 2, 3, 5, 8, 13, 21, 34, 55, 89, 144, 233, 377, 610, 987]\n"
          ],
          "name": "stdout"
        }
      ]
    },
    {
      "cell_type": "markdown",
      "metadata": {
        "collapsed": true,
        "id": "WdDNs2bs5lBj",
        "colab_type": "text"
      },
      "source": [
        "このような計算の結果は、数値を画面に表示させるよりも、その結果をグラフに表すほうが全体的な様子を理解しやすい。\n",
        "\n",
        "最後に、この結果をグラフに描画する方法を学ぶ。"
      ]
    },
    {
      "cell_type": "markdown",
      "metadata": {
        "id": "qFFyriWK5lBl",
        "colab_type": "text"
      },
      "source": [
        "----------------------\n",
        "### グラフ描画\n",
        "\n",
        "グラフ描画にはいくつか「ライブラリ」と呼ばれるプロブラム機能をまとめたものが必要である。\n",
        "Pythonのグラフ描画ライブラリの最も広く用いられているものは\n",
        "`matplotlib`というものである。\n",
        "\n",
        "`matplotlib`を使えるようにするためには、以下の`import`文を実行する。"
      ]
    },
    {
      "cell_type": "code",
      "metadata": {
        "id": "q89DNFCq5lBl",
        "colab_type": "code",
        "colab": {}
      },
      "source": [
        "# この行は、Jupyter-notebook内にグラフを表示するために必要である。\n",
        "%matplotlib inline\n",
        "\n",
        "# 「matplotlib というライブラリのうち、pyplotというモジュールを`plt`という名前で利用する」という意味。\n",
        "import matplotlib.pyplot as plt\n",
        "\n",
        "# これらの命令はグラフを描画するときに毎回必要なわけではなく、一度実行するだけでよい。"
      ],
      "execution_count": 0,
      "outputs": []
    },
    {
      "cell_type": "markdown",
      "metadata": {
        "id": "G7JhGv915lBp",
        "colab_type": "text"
      },
      "source": [
        "`plt.plot()`という関数のひとつ目の引数にさきほど計算した結果を格納したリストを、\n",
        "２つ目以降には、描画様式を与える。\n",
        "\n",
        "+ `'-'`: グラフを線で描く\n",
        "+ `'o'`: グラフを丸印で描く\n",
        "+ `'-o'`: 丸印で線で結んだグラフ描く"
      ]
    },
    {
      "cell_type": "code",
      "metadata": {
        "id": "AiPRwC2m5lBx",
        "colab_type": "code",
        "outputId": "87b6e68b-6918-4a57-bf6e-f50eeb91099f",
        "colab": {}
      },
      "source": [
        "plt.plot(fibonacci,'-o')"
      ],
      "execution_count": 0,
      "outputs": [
        {
          "output_type": "execute_result",
          "data": {
            "text/plain": [
              "[<matplotlib.lines.Line2D at 0x7f11ec888710>]"
            ]
          },
          "metadata": {
            "tags": []
          },
          "execution_count": 41
        },
        {
          "output_type": "display_data",
          "data": {
            "image/png": "[encoded data removed]",
            "text/plain": [
              "<matplotlib.figure.Figure at 0x7f1201735d30>"
            ]
          },
          "metadata": {
            "tags": []
          }
        }
      ]
    },
    {
      "cell_type": "markdown",
      "metadata": {
        "id": "hxsSGW9O5lB3",
        "colab_type": "text"
      },
      "source": [
        "フィのナッチ数列が急激に値が増加するものであることが実感できる。\n",
        "\n",
        "値の小さいところを詳しく見るためには片対数グラフがよいだろう。\n",
        "\n",
        "片対数グラフを描くには、`plt.plot(fibonacci, 'o')`の代わりに、`plt.semilogy(fibonacci, 'o')`を実行する。"
      ]
    },
    {
      "cell_type": "code",
      "metadata": {
        "id": "0srC5kTF5lB3",
        "colab_type": "code",
        "outputId": "0c548879-e5a8-4c22-bcf0-43a9c12bb13b",
        "colab": {}
      },
      "source": [
        "plt.semilogy(fibonacci,'-o')"
      ],
      "execution_count": 0,
      "outputs": [
        {
          "output_type": "execute_result",
          "data": {
            "text/plain": [
              "[<matplotlib.lines.Line2D at 0x7f11ec8976a0>]"
            ]
          },
          "metadata": {
            "tags": []
          },
          "execution_count": 42
        },
        {
          "output_type": "display_data",
          "data": {
            "image/png": "[encoded data removed]",
            "text/plain": [
              "<matplotlib.figure.Figure at 0x7f1201735b70>"
            ]
          },
          "metadata": {
            "tags": []
          }
        }
      ]
    },
    {
      "cell_type": "markdown",
      "metadata": {
        "id": "NRB4b0KJ5lB6",
        "colab_type": "text"
      },
      "source": [
        "フィボナッチ数列の値は、指数関数的に増加していることがわかる。"
      ]
    },
    {
      "cell_type": "markdown",
      "metadata": {
        "id": "zyfxhzmF92Zv",
        "colab_type": "text"
      },
      "source": [
        "## 繰り返し構造\n",
        "\n",
        "### for ループ\n",
        "\n",
        "`for`ループは、`while`ループによく似た繰り返し処理を行うための枠組みである。\n",
        "ただし、Pythonの`for`ループは、FortranやC言語のものとは少し異なる。"
      ]
    },
    {
      "cell_type": "code",
      "metadata": {
        "id": "BOOkTM3S92Zw",
        "colab_type": "code",
        "colab": {}
      },
      "source": [
        "# 文字列を複数格納したリスト\n",
        "words = ['cat', 'window', 'defenestrate']"
      ],
      "execution_count": 0,
      "outputs": []
    },
    {
      "cell_type": "code",
      "metadata": {
        "id": "RDCjDI0l92Z0",
        "colab_type": "code",
        "outputId": "1c30dba4-f66f-4e73-9adb-934ad8f349af",
        "colab": {}
      },
      "source": [
        "for w in words:\n",
        "    print(w, len(w))"
      ],
      "execution_count": 0,
      "outputs": [
        {
          "output_type": "stream",
          "text": [
            "cat 3\n",
            "window 6\n",
            "defenestrate 12\n"
          ],
          "name": "stdout"
        }
      ]
    },
    {
      "cell_type": "markdown",
      "metadata": {
        "id": "Eamj-RNj92Z6",
        "colab_type": "text"
      },
      "source": [
        "ここで`for w in words:`は、\n",
        "\n",
        "+ `words`の中から１つ要素を取り出してきて`w`に代入する。\n",
        "+ `for`文以下ブロックの命令を実行する\n",
        "+ それが終わると、`words`の次の要素を`w`に代入する。\n",
        "+ すべての要素について計算が終われば`for`文の実行を終わる。"
      ]
    },
    {
      "cell_type": "markdown",
      "metadata": {
        "id": "7ZZsTtir92Z7",
        "colab_type": "text"
      },
      "source": [
        "### range() 関数 を用いた繰り返し\n",
        "\n",
        "`for`文によく用いられるものが`range`関数である。"
      ]
    },
    {
      "cell_type": "code",
      "metadata": {
        "id": "BHS8_5bN92Z9",
        "colab_type": "code",
        "outputId": "f2b22192-2825-4e2f-ac04-5d8c7009fc13",
        "colab": {}
      },
      "source": [
        "for i in range(5):\n",
        "    print(i)"
      ],
      "execution_count": 0,
      "outputs": [
        {
          "output_type": "stream",
          "text": [
            "0\n",
            "1\n",
            "2\n",
            "3\n",
            "4\n"
          ],
          "name": "stdout"
        }
      ]
    },
    {
      "cell_type": "markdown",
      "metadata": {
        "id": "rJNy87QW92aB",
        "colab_type": "text"
      },
      "source": [
        "このように、`for i in range(5):`とすることで、`i`に0〜4までの数字を順に入れて繰り返し計算をすることが可能である。\n",
        "\n",
        "(range関数は番号が0番目から始まっている事に注意！！)"
      ]
    },
    {
      "cell_type": "markdown",
      "metadata": {
        "id": "S10j1iR_qpD7",
        "colab_type": "text"
      },
      "source": [
        "range関数で任意の番号から始めたいときは、\n",
        "\n",
        "\n",
        "range(a,b)\n",
        "\n",
        "\n",
        "とすればよい（ここで a は任意の数）。\n",
        "\n",
        "ただし、出力される数は a から b-1 までなので、そこは考慮しなければならない。"
      ]
    },
    {
      "cell_type": "code",
      "metadata": {
        "id": "uIb_XqVBrHtG",
        "colab_type": "code",
        "colab": {
          "base_uri": "https://localhost:8080/",
          "height": 198
        },
        "outputId": "9d34c4bd-e519-4245-89ad-3cd59d48bf58"
      },
      "source": [
        "# 1から10まで出力\n",
        "for i in range(1,11):\n",
        "    print(i)"
      ],
      "execution_count": 15,
      "outputs": [
        {
          "output_type": "stream",
          "text": [
            "1\n",
            "2\n",
            "3\n",
            "4\n",
            "5\n",
            "6\n",
            "7\n",
            "8\n",
            "9\n",
            "10\n"
          ],
          "name": "stdout"
        }
      ]
    },
    {
      "cell_type": "markdown",
      "metadata": {
        "id": "06BZh4JG92al",
        "colab_type": "text"
      },
      "source": [
        "## Pythonの関数\n",
        "\n",
        "上記の内積・行列積・外積のように、何度も行う操作を、操作の数だけコードを書くことは非効率である。\n",
        "このような同一の操作を汎用的に行うことができる仕組みを**関数**と呼ぶ。\n",
        "\n",
        "関数は、**引数**で与えられた入力に対して、何か計算した結果を**戻り値**として返すものである。\n",
        "例えば、これまで出てきた`len()`も関数である。\n",
        "\n",
        "リスト`x`が引数に与えられたとき、その要素数を戻り値として返す。"
      ]
    },
    {
      "cell_type": "code",
      "metadata": {
        "ExecuteTime": {
          "end_time": "2016-07-28T20:06:48.817423",
          "start_time": "2016-07-28T20:06:48.796588"
        },
        "id": "r_u9AATl92am",
        "colab_type": "code",
        "outputId": "37df9ee8-006e-4f5d-c8d4-48251b90e1c7",
        "colab": {}
      },
      "source": [
        "len(x) # リスト（など）を引数にとり、要素数を返す関数"
      ],
      "execution_count": 0,
      "outputs": [
        {
          "output_type": "execute_result",
          "data": {
            "text/plain": [
              "2"
            ]
          },
          "metadata": {
            "tags": []
          },
          "execution_count": 12
        }
      ]
    },
    {
      "cell_type": "markdown",
      "metadata": {
        "id": "GemWWWWs92aq",
        "colab_type": "text"
      },
      "source": [
        "関数は、以下のように定義する。ここでは、2つのリストを引数に持ち、その内積を計算する関数を作る。"
      ]
    },
    {
      "cell_type": "code",
      "metadata": {
        "ExecuteTime": {
          "end_time": "2016-07-28T20:09:59.368213",
          "start_time": "2016-07-28T20:09:59.352801"
        },
        "id": "tX0vbXva92as",
        "colab_type": "code",
        "colab": {}
      },
      "source": [
        "# 関数の例 `def` + 関数の名前（この場合はlist_dot）+ カッコ　として定義する。\n",
        "# カッコの中に引数を入れる。\n",
        "def list_dot(x1, x2):\n",
        "    \"\"\"\n",
        "    2つのリストを受け取り、その内積を計算する関数。\n",
        "    なお関数に関する説明は、\n",
        "    このように３つの連続するダブルコーテーション内に記述することが推奨されている。\n",
        "    \"\"\"\n",
        "    dot = 0.0\n",
        "    for i in range(len(x1)):\n",
        "        dot += x1[i]*x2[i] # x += y は、x に x+y を代入することを表す。\n",
        "    return dot # return 文で計算した値を返す。"
      ],
      "execution_count": 0,
      "outputs": []
    },
    {
      "cell_type": "markdown",
      "metadata": {
        "id": "YdQF_hxT92av",
        "colab_type": "text"
      },
      "source": [
        "この場合 ``list_dot(x, y)`` のように関数名（変数, 変数）とすることで、\n",
        "この関数を実行することができる。\n",
        "\n",
        "この関数が実行されると、まず``dot``という変数が定義され、値 0.0 が代入される。\n",
        "次の `for` ループにより内積の値が`dot`に代入される。\n",
        "計算された`dot`の値が返される。"
      ]
    },
    {
      "cell_type": "markdown",
      "metadata": {
        "id": "4zE7zk9k92ax",
        "colab_type": "text"
      },
      "source": [
        "このように定義した関数は、繰り返し用いることができる。"
      ]
    },
    {
      "cell_type": "code",
      "metadata": {
        "ExecuteTime": {
          "end_time": "2016-07-28T20:10:32.616094",
          "start_time": "2016-07-28T20:10:32.611717"
        },
        "id": "Rl2lwxON92ay",
        "colab_type": "code",
        "outputId": "dceb3ded-dffd-4dff-899c-93f614b99f76",
        "colab": {}
      },
      "source": [
        "x = [1.0, 2.0]\n",
        "y = [2.0, 1.0]\n",
        "print(list_dot(x, y))"
      ],
      "execution_count": 0,
      "outputs": [
        {
          "output_type": "stream",
          "text": [
            "4.0\n"
          ],
          "name": "stdout"
        }
      ]
    },
    {
      "cell_type": "code",
      "metadata": {
        "ExecuteTime": {
          "end_time": "2016-07-28T20:10:43.383877",
          "start_time": "2016-07-28T20:10:43.371478"
        },
        "id": "i4AHOJmQ92a1",
        "colab_type": "code",
        "outputId": "3aec9577-ecb4-45df-80dc-308342eddfae",
        "colab": {}
      },
      "source": [
        "x = [1.0, -2.0]\n",
        "y = [2.0, 1.0]\n",
        "print(list_dot(x, y))"
      ],
      "execution_count": 0,
      "outputs": [
        {
          "output_type": "stream",
          "text": [
            "0.0\n"
          ],
          "name": "stdout"
        }
      ]
    },
    {
      "cell_type": "markdown",
      "metadata": {
        "id": "Tfi1uby592bE",
        "colab_type": "text"
      },
      "source": [
        "## 数値計算ライブラリNumpy\n",
        "\n",
        "Pythonは科学計算に用いることのできるライブラリが十分に用意されていることが特徴である。\n",
        "ここでは、最も基本的な数値計算ライブラリであるNumpyを使用する。"
      ]
    },
    {
      "cell_type": "markdown",
      "metadata": {
        "id": "xmnJgnKH92bG",
        "colab_type": "text"
      },
      "source": [
        "### 基本的な使い方\n",
        "\n",
        "まず、PythonでNumpyを用いるための命令をする必要がある。\n",
        "これは前回学んだ`matplotlib`を用いるときと同様の`import`文を用いる。"
      ]
    },
    {
      "cell_type": "code",
      "metadata": {
        "id": "1CaFjasK92bH",
        "colab_type": "code",
        "colab": {}
      },
      "source": [
        "# まず最初に、グラフ描画ライブラリと、数値計算ライブラリをimportしておく。\n",
        "import numpy as np\n",
        "# 同様にmatplotlibもimportしておく。\n",
        "%matplotlib inline\n",
        "import matplotlib.pyplot as plt"
      ],
      "execution_count": 0,
      "outputs": []
    },
    {
      "cell_type": "markdown",
      "metadata": {
        "id": "6j9Zblxz92bL",
        "colab_type": "text"
      },
      "source": [
        "なお、`as np` の部分は、`numpy`を省略して`np`として用いる、という意味である。\n",
        "\n",
        "原理的には各自の好きな略語にできるが、`numpy`の場合、`np`と略すのが一般的である。\n",
        "逆にそれ以外の略称を用いることは、コードをわかりづらくさせるので避けるべきである。"
      ]
    },
    {
      "cell_type": "markdown",
      "metadata": {
        "id": "ZuHfOzCI92bM",
        "colab_type": "text"
      },
      "source": [
        "### 数学関数の計算\n",
        "\n",
        "ここでは、`Numpy`の機能の1つである特殊関数の計算をしてみる。\n",
        "\n",
        "    "
      ]
    },
    {
      "cell_type": "code",
      "metadata": {
        "id": "NVkHQ1T892bN",
        "colab_type": "code",
        "outputId": "3b4db2fc-1536-4870-82b9-e03714163046",
        "colab": {
          "base_uri": "https://localhost:8080/",
          "height": 35
        }
      },
      "source": [
        "# sin 関数\n",
        "np.sin(1)"
      ],
      "execution_count": 16,
      "outputs": [
        {
          "output_type": "execute_result",
          "data": {
            "text/plain": [
              "0.8414709848078965"
            ]
          },
          "metadata": {
            "tags": []
          },
          "execution_count": 16
        }
      ]
    },
    {
      "cell_type": "markdown",
      "metadata": {
        "id": "jyFBuZy092bQ",
        "colab_type": "text"
      },
      "source": [
        "このように、numpyの機能を用いる場合は、`np.`の後に関数名を書いて実行する。\n",
        "\n",
        "他に使える数学関数の一覧は\n",
        "\n",
        "http://docs.scipy.org/doc/numpy/reference/routines.math.html\n",
        "\n",
        "にリストされている。\n",
        "\n",
        "なお、Jupyter-notebook では、関数の括弧内にカーソルがあるときに `Shift + Tab` を押すことで、それら関数の説明を見ることができる。\n",
        "説明は英語であるが、わざわざマニュアルを検索しなくても簡単な情報は得られるようになっている。\n"
      ]
    },
    {
      "cell_type": "markdown",
      "metadata": {
        "id": "IhVU33i992bQ",
        "colab_type": "text"
      },
      "source": [
        "次に、この関数の形を視覚的に把握するためにグラフにプロットする。"
      ]
    },
    {
      "cell_type": "code",
      "metadata": {
        "id": "MI0KV05A92bR",
        "colab_type": "code",
        "colab": {}
      },
      "source": [
        "# まず、計算する範囲、個数を指定する。今回は、-5~5, 100 点で計算する。\n",
        "x = []\n",
        "y = []\n",
        "for i in range(100):\n",
        "    x.append(-5.0 + 10.0 / 100 * i)\n",
        "    y.append(np.sin(x[i]))"
      ],
      "execution_count": 0,
      "outputs": []
    },
    {
      "cell_type": "code",
      "metadata": {
        "id": "3r2jSLNv92bU",
        "colab_type": "code",
        "outputId": "33290695-0c43-43aa-e642-3a5d664fb665",
        "colab": {}
      },
      "source": [
        "plt.plot(x, y, '-o')"
      ],
      "execution_count": 0,
      "outputs": [
        {
          "output_type": "execute_result",
          "data": {
            "text/plain": [
              "[<matplotlib.lines.Line2D at 0x7fad9c0df828>]"
            ]
          },
          "metadata": {
            "tags": []
          },
          "execution_count": 20
        },
        {
          "output_type": "display_data",
          "data": {
            "image/png": "[encoded data removed]",
            "text/plain": [
              "<matplotlib.figure.Figure at 0x7fad9e1a0f60>"
            ]
          },
          "metadata": {
            "tags": []
          }
        }
      ]
    },
    {
      "cell_type": "markdown",
      "metadata": {
        "id": "5L0rsMok92bX",
        "colab_type": "text"
      },
      "source": [
        "### 課題\n",
        "以下の関数を（-3 ~ 3）の範囲でプロットせよ\n",
        "\n",
        "$$\n",
        "f(x) = \\frac{\\sin(2\\pi x)}{2\\pi x}\n",
        "$$\n",
        "\n",
        "なお、$f(0)=1$であることに注意する。"
      ]
    },
    {
      "cell_type": "code",
      "metadata": {
        "id": "uVOulon992bY",
        "colab_type": "code",
        "colab": {}
      },
      "source": [
        "# 解答をここに記入する"
      ],
      "execution_count": 0,
      "outputs": []
    },
    {
      "cell_type": "code",
      "metadata": {
        "id": "dfUHlJUftnn5",
        "colab_type": "code",
        "colab": {
          "base_uri": "https://localhost:8080/",
          "height": 287
        },
        "outputId": "2d57b24a-6613-4c81-a337-0d6b4eb59df3"
      },
      "source": [
        "# 解答例\n",
        "import numpy as np\n",
        "%matplotlib inline\n",
        "import matplotlib.pyplot as plt\n",
        "x = []\n",
        "y = []\n",
        "dx = 0.001  #xの刻み幅Δx\n",
        "x_dis = int(6/dx) #x軸の幅 \n",
        "for i in range(x_max):\n",
        "    x.append(-3.0 + dx * i)\n",
        "    y.append(np.sin(2*np.pi*x[i])/2*np.pi*x[i])\n",
        "plt.plot(x, y, '-o')"
      ],
      "execution_count": 40,
      "outputs": [
        {
          "output_type": "execute_result",
          "data": {
            "text/plain": [
              "[<matplotlib.lines.Line2D at 0x7f2a0a43c358>]"
            ]
          },
          "metadata": {
            "tags": []
          },
          "execution_count": 40
        },
        {
          "output_type": "display_data",
          "data": {
            "image/png": "[encoded data removed]",
            "text/plain": [
              "<Figure size 432x288 with 1 Axes>"
            ]
          },
          "metadata": {
            "tags": []
          }
        }
      ]
    },
    {
      "cell_type": "markdown",
      "metadata": {
        "id": "DB8KrAOL92bk",
        "colab_type": "text"
      },
      "source": [
        "## 条件分岐"
      ]
    },
    {
      "cell_type": "markdown",
      "metadata": {
        "id": "s3OTuanv92bp",
        "colab_type": "text"
      },
      "source": [
        "### if 文の文法\n",
        "\n",
        "上記に示した手順のうち, ２および３は, 特定の条件が満たされたときに計算の挙動を変化させている. \n",
        "それを実現する枠組みを**条件分岐**と呼ぶ. \n",
        "Pythonでは, `if`文を用いて条件分岐を行う. \n",
        "\n",
        "以下に, `if`文の一つの用例を示す. \n",
        "ここでは, 二次方程式の判別式を計算して, それが正, 零, 負であるときにそれぞれ異なる処理を行っている. "
      ]
    },
    {
      "cell_type": "code",
      "metadata": {
        "id": "IJkxmwhJ92bq",
        "colab_type": "code",
        "colab": {}
      },
      "source": [
        "def discriminant(a, b, c):\n",
        "    \"\"\"\n",
        "    a x**2 + b x + c = 0 に実数解が存在するか調べるプログラム。\n",
        "    ２つの実根が存在する場合は `two real roots` を、重根が存在する場合は `one real root`を、\n",
        "    実根が存在しない場合は `two complex roots` を表示する。\n",
        "    \"\"\"\n",
        "    d = b**2 - 4.0*a*c\n",
        "    if d > 0.0:\n",
        "        print('two real roots')\n",
        "    elif d == 0.0:\n",
        "        print('one real root')\n",
        "    else:\n",
        "        print('two complex roots')"
      ],
      "execution_count": 0,
      "outputs": []
    },
    {
      "cell_type": "code",
      "metadata": {
        "id": "GabmXpSX92bu",
        "colab_type": "code",
        "outputId": "d3bbba16-88f1-47f8-e9ff-0bb27dbcb8aa",
        "colab": {}
      },
      "source": [
        "discriminant(3.0, 2.0, 1.0)"
      ],
      "execution_count": 0,
      "outputs": [
        {
          "output_type": "stream",
          "text": [
            "two complex roots\n"
          ],
          "name": "stdout"
        }
      ]
    },
    {
      "cell_type": "markdown",
      "metadata": {
        "id": "vnRDZ8F692bx",
        "colab_type": "text"
      },
      "source": [
        "このように`if`文を使えば、`if`文直後の条件が真か偽かに応じて処理を分岐することができる。\n",
        "\n",
        "具体的には以下の表のように、適当な等式あるいは不等式を書くことが多い。\n",
        "\n",
        "| Pythonでの書き方 |    意味    |\n",
        "|:-----------:|:--------------:|\n",
        "| `x == y` | $x=y$ (イコール)| \n",
        "| `x != y` | $x\\neq y$  (ノットイコール)| \n",
        "| `x < y` | $x<y$ (小なり)| \n",
        "| `x <= y` | $x\\leq y$ (小なりイコール)| \n",
        "| `x > y` | $x> y$ (大なり)| \n",
        "| `x >= y` | $x \\leq y$ (大なりイコール)| \n",
        "\n",
        "\n",
        "`if`文の仕様パターンは大きくは以下の3通りである。\n",
        "\n",
        "```\n",
        "if 条件:\n",
        "    処理  \n",
        "```\n",
        "\n",
        "```\n",
        "if 条件:\n",
        "    真の場合の処理\n",
        "else:\n",
        "    偽の場合の処理\n",
        "```\n",
        "\n",
        "```\n",
        "if 条件1:\n",
        "    条件1が真の場合の処理\n",
        "elif 条件2:\n",
        "    条件1が偽であり条件2が真の場合の処理\n",
        "else:\n",
        "    条件1、2が偽である場合の処理\n",
        "```\n"
      ]
    },
    {
      "cell_type": "markdown",
      "metadata": {
        "id": "P7cD1tVa92by",
        "colab_type": "text"
      },
      "source": [
        "### 課題\n",
        "\n",
        "二次方程式の判別式を計算し、それが正の時は二実数解、零の時は重解、負の時は複素数解を計算するプログラムを作成せよ。\n",
        "\n",
        "なお、複素数は $a + b i$ は `np.complex(a,b)` で以下のように表すことができる。"
      ]
    },
    {
      "cell_type": "code",
      "metadata": {
        "id": "t2dq4thv92bz",
        "colab_type": "code",
        "outputId": "353e9311-f45b-4b7c-8fbb-7e51ab5a8b54",
        "colab": {}
      },
      "source": [
        "# 2+3i は以下のように表す。\n",
        "np.complex(2.0,3.0)"
      ],
      "execution_count": 0,
      "outputs": [
        {
          "output_type": "execute_result",
          "data": {
            "text/plain": [
              "(2+3j)"
            ]
          },
          "metadata": {
            "tags": []
          },
          "execution_count": 26
        }
      ]
    },
    {
      "cell_type": "code",
      "metadata": {
        "id": "jkXKYsufHG0U",
        "colab_type": "code",
        "colab": {}
      },
      "source": [
        "# 解答をここに記入する"
      ],
      "execution_count": 0,
      "outputs": []
    },
    {
      "cell_type": "code",
      "metadata": {
        "id": "sU6cYjR1wPa6",
        "colab_type": "code",
        "colab": {
          "base_uri": "https://localhost:8080/",
          "height": 126
        },
        "outputId": "dee2cbf7-216c-4aac-c91a-fdebf7a194c1"
      },
      "source": [
        "#解答例\n",
        "import numpy as np\n",
        "\n",
        "def discriminant(a, b, c):\n",
        "    \"\"\"\n",
        "    a x**2 + b x + c = 0 に実数解が存在するか調べるプログラム。\n",
        "    ２つの実根が存在する場合は `two real roots` を、重根が存在する場合は `one real root`を、\n",
        "    実根が存在しない場合は `two complex roots` を表示する。\n",
        "    \"\"\"\n",
        "    d = b**2 - 4.0*a*c\n",
        "    \n",
        "    if d > 0.0:\n",
        "        print('two real roots')\n",
        "    elif d == 0.0:\n",
        "        print('one real root')\n",
        "    else:\n",
        "        print('two complex roots')\n",
        "        \n",
        "    return b**2 - 4.0*a*c\n",
        "    \n",
        " \n",
        "a = 1\n",
        "b = 3\n",
        "c = 5  \n",
        "\n",
        "print('%dx^2 + %dx + %d = 0 の解\\n' %(a,b,c))\n",
        "\n",
        "D = discriminant(a, b, c)\n",
        "\n",
        "print('判別式 D = ',D)\n",
        "\n",
        "x1 = (-b+D**0.5)/2*a\n",
        "x2 = (-b-D**0.5)/2*a\n",
        "print('\\nx = ',x1,x2)"
      ],
      "execution_count": 67,
      "outputs": [
        {
          "output_type": "stream",
          "text": [
            "1x^2 + 3x + 5 = 0 の解\n",
            "\n",
            "two complex roots\n",
            "判別式 D =  -11.0\n",
            "\n",
            "x =  (-1.5+1.6583123951777j) (-1.5-1.6583123951777j)\n"
          ],
          "name": "stdout"
        }
      ]
    },
    {
      "cell_type": "markdown",
      "metadata": {
        "id": "2kkTQNBuBNIy",
        "colab_type": "text"
      },
      "source": [
        "\n",
        "\n",
        "\n",
        "# Pythonの現実的応用 〜運動方程式を数値的に解く〜"
      ]
    },
    {
      "cell_type": "markdown",
      "metadata": {
        "id": "mjtI0uckBNI3",
        "colab_type": "text"
      },
      "source": [
        "## 物体の自由落下のシミュレーション\n",
        "\n",
        "ここでは, 以下のような質点の自由落下をシミュレートする.\n",
        "\n",
        "![自由落下](http://livedoor.blogimg.jp/yng2513/imgs/1/5/1549ce35.png)\n",
        "\n",
        "自由落下運動の模式図. 時刻 $t = 0$ に $x(0)=h$ で鉛直方向に速度 $u_0$ で\n",
        "運動している物体（図の青丸）の軌道をシミュレートする.\n",
        "位置 $x$ および速度 $v$ の模式図は上図のようになる."
      ]
    },
    {
      "cell_type": "markdown",
      "metadata": {
        "id": "bC18dOGdBNI6",
        "colab_type": "text"
      },
      "source": [
        "質点の質量を $m$ 、重力加速度を $g$ 、初期位置を $h$ 、初速を $u_0$ とする。\n",
        "鉛直座標として $x$ をとると, 運動方程式は\n",
        "\n",
        "$$\n",
        "ma=-mg, \\ \\ \\ x(t=0)=h, \\ \\ \\ v(t=0)=u_0\n",
        "$$\n",
        "\n",
        "で与えられる.\n",
        "その解は\n",
        "\n",
        "$$\n",
        "x(t)=h+u_0t-\\frac{1}{2}gt^2.\n",
        "$$\n",
        "\n",
        "である。\n",
        "\n",
        "取り敢えず、この $t$ における $x$ の関数を実際にプロットしてグラフにしてみよう。（これを解析的に解くという。）"
      ]
    },
    {
      "cell_type": "code",
      "metadata": {
        "id": "f2TxFoVZEp8F",
        "colab_type": "code",
        "outputId": "ba29df20-d09e-4022-ad61-5232201928f1",
        "colab": {
          "base_uri": "https://localhost:8080/",
          "height": 269
        }
      },
      "source": [
        "from matplotlib import pyplot as plt\n",
        "import math\n",
        "u = 30.\n",
        "h = 50\n",
        "\n",
        "x= [] # python list \n",
        "y= []\n",
        "tend=7.5\n",
        "dt=0.1\n",
        "t =0\n",
        "g =9.8\n",
        "\n",
        "while t<tend:\n",
        "   x.append( t )\n",
        "   y.append( h + u*t - 0.5*g*t**2)\n",
        "   t=t+dt\n",
        "  \n",
        "plt.plot(x,y, marker='o')\n",
        "plt.show()\n"
      ],
      "execution_count": 0,
      "outputs": [
        {
          "output_type": "display_data",
          "data": {
            "image/png": "[encoded data removed]",
            "text/plain": [
              "<Figure size 432x288 with 1 Axes>"
            ]
          },
          "metadata": {
            "tags": []
          }
        }
      ]
    },
    {
      "cell_type": "markdown",
      "metadata": {
        "id": "iAY7U-zTDdrH",
        "colab_type": "text"
      },
      "source": [
        "今度はこれをコンピュータを用いて近似的に求めてみよう.\n",
        "\n",
        "上式を以下のように変形することで数値解析用の運動方程式が得られる.\n",
        "(これは速度と変位の定義式を変形しただけのものでもある)\n",
        "\n",
        "$$\n",
        "x_{n+1} = x_{n} + v_n  \\Delta t \\\\[3pt]\n",
        "u_{n+1} = u_n - a_n  \\Delta t\n",
        "$$\n",
        "\n",
        "プログラムの例を以下に示す.\n",
        "計算した $x, u$ の時間変化をグラフにし,　厳密解と比較してみよ."
      ]
    },
    {
      "cell_type": "code",
      "metadata": {
        "id": "WWNIxRFFBNI_",
        "colab_type": "code",
        "colab": {}
      },
      "source": [
        "import numpy as np\n",
        "%matplotlib inline\n",
        "import matplotlib.pyplot as plt\n",
        "\n",
        "def next_x(x, u, dt):\n",
        "    \"\"\"\n",
        "    現在の x, u の値から、dt 後のxを求める関数。\n",
        "    args:\n",
        "    + x: 時刻 t での空間座標\n",
        "    + u: 時刻 t での速度\n",
        "    + dt: 線形近似する時間幅\n",
        "    return:\n",
        "     時刻t+dtでのxの値\n",
        "    \"\"\"\n",
        "    return x + u * dt\n",
        "\n",
        "def next_u_vacuum(u, dt, g):\n",
        "    \"\"\"\n",
        "    現在の u の値から、dt 後のxを求める関数。空気抵抗は考慮しない。\n",
        "    args:\n",
        "    + x: 時刻 t での空間座標\n",
        "    + u: 時刻 t での速度\n",
        "    + dt: 線形近似する時間幅\n",
        "    + g: 重力加速度の値\n",
        "    return:\n",
        "     時刻t+dt での u の値\n",
        "    \"\"\"\n",
        "    return u - g * dt\n",
        "\n",
        "def solve_freefall_vacuum(x0, u0, dt, tmax):\n",
        "    \"\"\"\n",
        "    t=0 に位置h、速度u0の物体の自由落下をシミュレートする関数。\n",
        "    args:\n",
        "    + x0: t=0での座標 [m]\n",
        "    + u0: t=0での速度 [m/s]\n",
        "    + dt: オイラー法を用いるための時間軸の刻み幅 [s]\n",
        "    + tmax: 追跡を行う最大時間 [s]\n",
        "    \"\"\"\n",
        "    # 計算結果を代入するリスト\n",
        "    x_list = []\n",
        "    u_list = []\n",
        "    t_list = []\n",
        "    \n",
        "    g = 9.81 # 重力加速度 [m/s^2]\n",
        "    \n",
        "    # 初期値の代入\n",
        "    x = x0\n",
        "    u = u0\n",
        "    t = 0.0\n",
        "    \n",
        "    while(t < tmax):\n",
        "        x_list.append(x)\n",
        "        u_list.append(u)\n",
        "        t_list.append(t)\n",
        "        \n",
        "        # x, u, tの値の更新\n",
        "        x = next_x(x,u,dt)\n",
        "        u = next_u_vacuum(u,dt,g)\n",
        "        t = t + dt\n",
        "    return x_list, u_list, t_list"
      ],
      "execution_count": 0,
      "outputs": []
    },
    {
      "cell_type": "code",
      "metadata": {
        "id": "E-BQUAMSBNJL",
        "colab_type": "code",
        "outputId": "6945c61e-a5ae-4548-a287-9c0664acba93",
        "colab": {}
      },
      "source": [
        "# 数値解\n",
        "x_list, u_list, t_list = solve_freefall_vacuum(1.0, 0.0, 0.001, 1.3)\n",
        "\n",
        "plt.figure(figsize=(8,3))\n",
        "# t vs x のグラフ\n",
        "plt.subplot(1,2,1)\n",
        "plt.plot(t_list, x_list)\n",
        "plt.xlabel('t (s)')\n",
        "plt.ylabel('x (m)')\n",
        "# t vs u のグラフ\n",
        "plt.subplot(1,2,2)\n",
        "plt.plot(t_list, u_list)\n",
        "plt.xlabel('t (s)')\n",
        "plt.ylabel('u (m/s)')\n",
        "# 2つのグラフを綺麗に配置する。\n",
        "plt.tight_layout()"
      ],
      "execution_count": 0,
      "outputs": [
        {
          "output_type": "display_data",
          "data": {
            "image/png": "[encoded data removed]",
            "text/plain": [
              "<matplotlib.figure.Figure at 0x7f3ef404bac8>"
            ]
          },
          "metadata": {
            "tags": []
          }
        }
      ]
    },
    {
      "cell_type": "markdown",
      "metadata": {
        "colab_type": "text",
        "id": "YYVeYLut1MAY"
      },
      "source": [
        "### 課題\n",
        "\n",
        "角度 $θ$ で斜方投射した場合の運動を数値計算するプログラムを作成せよ。"
      ]
    },
    {
      "cell_type": "code",
      "metadata": {
        "colab_type": "code",
        "id": "XJhNwsQA1MAi",
        "colab": {}
      },
      "source": [
        "# 解答をここに記入する"
      ],
      "execution_count": 0,
      "outputs": []
    },
    {
      "cell_type": "markdown",
      "metadata": {
        "colab_type": "text",
        "id": "7vxGcuJFC08H"
      },
      "source": [
        "（ヒント）\n",
        "\n",
        "質点の質量を $m$ 、重力加速度を $g$ 、初期位置は 0 m 、斜方初速を $v_0 = 14.1 $ m とする。\n",
        "水平座標として $x$ , 鉛直座標として $y$ をとると、運動方程式は水平分と鉛直分の２つ\n",
        "\n",
        "$$\n",
        "ma_x=0, \\ \\ \\ x(t=0)=0, \\ \\ \\ v_x(t=0)=u_0 cosθ  \n",
        "$$\n",
        "\n",
        "$$\n",
        "ma_y=-mg, \\ \\ \\ y(t=0)=0, \\ \\ \\ v_y(t=0)=u_0 sinθ  \n",
        "$$\n",
        "\n",
        "で与えられる。\n",
        "\n",
        "（斜方投射を鉛直成分と水平成分に分解すると、鉛直成分は投げ上げ運動，水平成分は等速直線運動をする事から、このような運動方程式が書ける）\n",
        "\n",
        "\n",
        "これらの情報をもとに数値解析プログラムをコーディングしてみよう！"
      ]
    },
    {
      "cell_type": "code",
      "metadata": {
        "colab_type": "code",
        "outputId": "8a1de058-1f34-4ed9-e221-f75fb298273f",
        "id": "efW_uMIL1MAo",
        "colab": {
          "base_uri": "https://localhost:8080/",
          "height": 282
        }
      },
      "source": [
        "#解答例\n",
        "\n",
        "from matplotlib import pyplot as plt \n",
        "import math \n",
        "  \n",
        "g = 9.8 #重力加速度  \n",
        "  \n",
        "#初期条件 \n",
        "dt = 0.05 \n",
        "t = 0.0 \n",
        "x = 0.0\n",
        "y = 0.0\n",
        "v0 = 14.1\n",
        "theta = 60\n",
        "vx = v0*np.cos(math.radians(theta))\n",
        "vy = v0*np.sin(math.radians(theta))\n",
        "  \n",
        "t_list = [] \n",
        "x_list = [] \n",
        "y_list = []\n",
        "\n",
        "while t < 2.45: \n",
        "  t += dt \n",
        "  ax = 0\n",
        "  ay = -g\n",
        "  x += vx*dt\n",
        "  y += vy*dt\n",
        "  vx += ax*dt\n",
        "  vy += ay*dt\n",
        "              \n",
        "  x_list.append(x)\n",
        "  y_list.append(y) \n",
        "\n",
        "plt.plot(x_list, y_list) \n",
        "plt.xlabel('x [m]') \n",
        "plt.ylabel('y [m]')          \n",
        "plt.show() "
      ],
      "execution_count": 132,
      "outputs": [
        {
          "output_type": "display_data",
          "data": {
            "image/png": "[encoded data removed]",
            "text/plain": [
              "<Figure size 432x288 with 1 Axes>"
            ]
          },
          "metadata": {
            "tags": []
          }
        }
      ]
    }
  ]
}